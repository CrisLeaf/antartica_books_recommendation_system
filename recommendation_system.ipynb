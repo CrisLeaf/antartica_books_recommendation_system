{
 "cells": [
  {
   "cell_type": "markdown",
   "id": "d67c5338-8057-4660-a350-f94dbd3414c6",
   "metadata": {},
   "source": [
    "# Antártica Recommendation System"
   ]
  },
  {
   "cell_type": "markdown",
   "id": "7fe01bcd-ca5b-4dff-a513-35888bcbe854",
   "metadata": {},
   "source": [
    "## Intro"
   ]
  },
  {
   "cell_type": "markdown",
   "id": "f28c6503-dcdc-40e4-9963-4b13952c0e42",
   "metadata": {},
   "source": [
    "Import the necessary libraries."
   ]
  },
  {
   "cell_type": "code",
   "execution_count": 1,
   "id": "d0428443-d874-47c9-861f-559688e10e97",
   "metadata": {},
   "outputs": [],
   "source": [
    "import numpy as np\n",
    "import pandas as pd\n",
    "from utils import df_fill_na\n",
    "from similarities import get_similarities"
   ]
  },
  {
   "cell_type": "markdown",
   "id": "e799d714-c378-4b45-bf75-eac8f760b786",
   "metadata": {},
   "source": [
    "Load the dataset. \n",
    "\n",
    "We are splitting the books dataframe into two subsets. And making recommendations only on the subset that the input book belongs to.\n",
    "If your computer does not have enough ram, consider splitting the dataframe into 3 or more subsets."
   ]
  },
  {
   "cell_type": "code",
   "execution_count": 2,
   "id": "dca718a4-0e84-4af9-ba46-a31a865169d0",
   "metadata": {},
   "outputs": [],
   "source": [
    "df = pd.read_csv(\"data_scraper/books.csv\")\n",
    "df = df.sample(frac=1, random_state=8787)\n",
    "df.reset_index(drop=True, inplace=True)\n",
    "df = df_fill_na(df)\n",
    "df1 = df[:11000]\n",
    "df2 = df[11000:].reset_index(drop=True)"
   ]
  },
  {
   "cell_type": "markdown",
   "id": "11390979-879b-49a2-a099-489092866973",
   "metadata": {},
   "source": [
    "Calculate the similarity matrices."
   ]
  },
  {
   "cell_type": "code",
   "execution_count": 3,
   "id": "a1753bc4-7498-45ef-8964-2c7562cc28c0",
   "metadata": {},
   "outputs": [
    {
     "name": "stdout",
     "output_type": "stream",
     "text": [
      "CPU times: user 15.8 s, sys: 3.22 s, total: 19 s\n",
      "Wall time: 19.1 s\n"
     ]
    }
   ],
   "source": [
    "%%time\n",
    "formula1 = get_similarities(df1)\n",
    "formula2 = get_similarities(df2)"
   ]
  },
  {
   "cell_type": "markdown",
   "id": "7eec5601-ec32-4bf6-8c71-b385b4cbef3f",
   "metadata": {},
   "source": [
    "## Recommendations"
   ]
  },
  {
   "cell_type": "markdown",
   "id": "91c6352b-459d-403e-bbc7-27b78d2b8854",
   "metadata": {},
   "source": [
    "import the *Recommendations* class"
   ]
  },
  {
   "cell_type": "code",
   "execution_count": 4,
   "id": "5e4eb088-e7dc-4b22-b19c-1542b682fffa",
   "metadata": {},
   "outputs": [],
   "source": [
    "from recommendations import Recommendations\n",
    "reco1 = Recommendations(df1, formula1)\n",
    "reco2 = Recommendations(df2, formula2)"
   ]
  },
  {
   "cell_type": "markdown",
   "id": "ba5aff26-c505-42b5-a1ee-706ecb55a30d",
   "metadata": {},
   "source": [
    "Define the splitted recommendation function:"
   ]
  },
  {
   "cell_type": "code",
   "execution_count": 5,
   "id": "769e46ab-6120-4523-bac9-38920ceb3c43",
   "metadata": {},
   "outputs": [],
   "source": [
    "def recommend(link):\n",
    "    try:\n",
    "        reco1.get_recommendations(link)\n",
    "    except:\n",
    "        reco2.get_recommendations(link)\n",
    "    print"
   ]
  },
  {
   "cell_type": "markdown",
   "id": "3ad44fb6-2623-4449-8787-daf646d27572",
   "metadata": {},
   "source": [
    "### Examples"
   ]
  },
  {
   "cell_type": "markdown",
   "id": "c613cde7-cfe2-407d-907b-fbd06d03fb06",
   "metadata": {},
   "source": [
    "For example, the recommendations of [Harry Potter](https://www.antartica.cl/harry-potter-y-la-piedra-filosofal-(1)-9789878000404.html) book are:"
   ]
  },
  {
   "cell_type": "code",
   "execution_count": 6,
   "id": "e500af52-5b0c-4d2f-8295-622ae2806f79",
   "metadata": {
    "tags": []
   },
   "outputs": [
    {
     "name": "stdout",
     "output_type": "stream",
     "text": [
      "Output links:\n",
      " https://www.antartica.cl/harry-potter-y-el-prisionero-de-azkaban-3-cs-tbs-2019-9789878000176.html\n",
      " https://www.antartica.cl/harry-potter-y-la-camara-secreta-2-td-9788498380187.html\n",
      " https://www.antartica.cl/harry-potter-y-el-cadiz-de-fuego-(4)-9789878000138.html\n",
      " https://www.antartica.cl/harry-potter-y-el-prisionero-de-azkaban-3-td-9788498380194.html\n",
      " https://www.antartica.cl/harry-potter-y-la-camara-secreta-2-cs-tbs-2019-9789878000442.html\n"
     ]
    }
   ],
   "source": [
    "recommend(\"https://www.antartica.cl/harry-potter-y-la-piedra-filosofal-(1)-9789878000404.html\")"
   ]
  },
  {
   "cell_type": "markdown",
   "id": "58289ec9-3d04-48fe-a99a-0c6a33e2417c",
   "metadata": {},
   "source": [
    "The recommendations of [Doctor Sleep](https://www.antartica.cl/doctor-sueno-b-9788490622858.html) are:"
   ]
  },
  {
   "cell_type": "code",
   "execution_count": 7,
   "id": "d137ac03-6ff8-4591-bc21-ef83183da7cd",
   "metadata": {},
   "outputs": [
    {
     "name": "stdout",
     "output_type": "stream",
     "text": [
      "Output links:\n",
      " https://www.antartica.cl/las-dos-despues-de-la-medianoche-b-9789875665385.html\n",
      " https://www.antartica.cl/el-evangelio-del-mal-9788483469132.html\n",
      " https://www.antartica.cl/cell-espanol-9789875663831.html\n",
      " https://www.antartica.cl/la-historia-de-lisey-9789875665095.html\n",
      " https://www.antartica.cl/la-sangre-de-los-inocentes-b-9788483465240.html\n"
     ]
    }
   ],
   "source": [
    "recommend(\"https://www.antartica.cl/doctor-sueno-b-9788490622858.html\")"
   ]
  },
  {
   "cell_type": "markdown",
   "id": "e6f93ce8-8c68-4ae2-bd92-9f0c80a8e5a5",
   "metadata": {},
   "source": [
    "The recommendations of an [Arithmetic book](https://www.antartica.cl/aritmetica-para-padres-y-madres-9789561123878.html) are:"
   ]
  },
  {
   "cell_type": "code",
   "execution_count": 8,
   "id": "7613195d-f304-4de1-9c2d-b35e8d9eb725",
   "metadata": {},
   "outputs": [
    {
     "name": "stdout",
     "output_type": "stream",
     "text": [
      "Output links:\n",
      " https://www.antartica.cl/manual-de-preparacion-matematicas-9789561404113.html\n",
      " https://www.antartica.cl/algebra-1-edicion-9788429151114.html\n",
      " https://www.antartica.cl/el-rostro-humano-de-las-matematicas-9788496566958.html\n",
      " https://www.antartica.cl/matematicas-de-la-fiabilidad-1-edicion-9788429150070.html\n",
      " https://www.antartica.cl/aritmetica-pitagorica-y-el-triangulo-de-pascal-9789561423336.html\n"
     ]
    }
   ],
   "source": [
    "recommend(\"https://www.antartica.cl/aritmetica-para-padres-y-madres-9789561123878.html\")"
   ]
  }
 ],
 "metadata": {
  "kernelspec": {
   "display_name": "Python 3 (ipykernel)",
   "language": "python",
   "name": "python3"
  },
  "language_info": {
   "codemirror_mode": {
    "name": "ipython",
    "version": 3
   },
   "file_extension": ".py",
   "mimetype": "text/x-python",
   "name": "python",
   "nbconvert_exporter": "python",
   "pygments_lexer": "ipython3",
   "version": "3.10.0"
  }
 },
 "nbformat": 4,
 "nbformat_minor": 5
}
