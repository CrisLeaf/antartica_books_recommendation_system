{
 "cells": [
  {
   "cell_type": "code",
   "execution_count": 1,
   "id": "d0428443-d874-47c9-861f-559688e10e97",
   "metadata": {},
   "outputs": [],
   "source": [
    "import numpy as np\n",
    "import pandas as pd\n",
    "from utils import df_fill_na\n",
    "from similarities import get_similarities"
   ]
  },
  {
   "cell_type": "code",
   "execution_count": 2,
   "id": "dca718a4-0e84-4af9-ba46-a31a865169d0",
   "metadata": {},
   "outputs": [],
   "source": [
    "df = pd.read_csv(\"data_scraper/books.csv\")\n",
    "df = df_fill_na(df)\n",
    "df = df[0:15000]"
   ]
  },
  {
   "cell_type": "code",
   "execution_count": 3,
   "id": "a1753bc4-7498-45ef-8964-2c7562cc28c0",
   "metadata": {},
   "outputs": [
    {
     "name": "stdout",
     "output_type": "stream",
     "text": [
      "CPU times: user 6.08 s, sys: 704 ms, total: 6.79 s\n",
      "Wall time: 6.8 s\n"
     ]
    }
   ],
   "source": [
    "%%time\n",
    "formula = get_similarities(df)"
   ]
  },
  {
   "cell_type": "code",
   "execution_count": 4,
   "id": "5e4eb088-e7dc-4b22-b19c-1542b682fffa",
   "metadata": {},
   "outputs": [],
   "source": [
    "from recommendations import Recommendations"
   ]
  },
  {
   "cell_type": "code",
   "execution_count": 5,
   "id": "e500af52-5b0c-4d2f-8295-622ae2806f79",
   "metadata": {
    "tags": []
   },
   "outputs": [
    {
     "name": "stdout",
     "output_type": "stream",
     "text": [
      "Input link:\n",
      " https://www.antartica.cl/kayak-de-mar-9788480195126.html\n",
      "Output links:\n",
      " https://www.antartica.cl/the-encyclopedia-of-yacht-designers-9780393048766.html\n",
      " https://www.antartica.cl/pesca-recreativa-de-costa-9788425510137.html\n",
      " https://www.antartica.cl/nudos-nauticos-9788480195010.html\n",
      " https://www.antartica.cl/el-kayakista-de-mar-9788480198646.html\n",
      " https://www.antartica.cl/veleros-cube-book-9788496865303.html\n"
     ]
    }
   ],
   "source": [
    "reco = Recommendations(df, formula)\n",
    "reco.get_recommendations(df[\"link\"][55]);"
   ]
  },
  {
   "cell_type": "code",
   "execution_count": null,
   "id": "77e49c44-1ada-4066-a8f5-893125713ad9",
   "metadata": {},
   "outputs": [],
   "source": []
  }
 ],
 "metadata": {
  "kernelspec": {
   "display_name": "Python 3 (ipykernel)",
   "language": "python",
   "name": "python3"
  },
  "language_info": {
   "codemirror_mode": {
    "name": "ipython",
    "version": 3
   },
   "file_extension": ".py",
   "mimetype": "text/x-python",
   "name": "python",
   "nbconvert_exporter": "python",
   "pygments_lexer": "ipython3",
   "version": "3.10.0"
  }
 },
 "nbformat": 4,
 "nbformat_minor": 5
}
